{
 "cells": [
  {
   "cell_type": "code",
   "id": "initial_id",
   "metadata": {
    "collapsed": true,
    "ExecuteTime": {
     "end_time": "2025-02-20T17:04:04.883232Z",
     "start_time": "2025-02-20T17:03:59.757816Z"
    }
   },
   "source": "%pip install langchain langchain_openai langchain-community --upgrade --quiet",
   "outputs": [
    {
     "name": "stdout",
     "output_type": "stream",
     "text": [
      "Note: you may need to restart the kernel to use updated packages.\n"
     ]
    }
   ],
   "execution_count": 1
  },
  {
   "metadata": {
    "ExecuteTime": {
     "end_time": "2025-02-20T17:06:17.771247Z",
     "start_time": "2025-02-20T17:06:14.135493Z"
    }
   },
   "cell_type": "code",
   "source": [
    "from langchain_openai import ChatOpenAI\n",
    "from langchain_core.prompts.chat import ChatPromptTemplate\n",
    "\n",
    "\n",
    "chat_prompt_template = ChatPromptTemplate.from_messages([\n",
    "    (\"system\", \"You are a helpful assistant that generates human names\"),\n",
    "    (\"human\", \"{text}\")\n",
    "])\n",
    "\n",
    "result = chat_prompt_template.invoke({\n",
    "    \"text\": \"What would be a good  name for a boy who wish to became like Rocky From KGF ?\"\n",
    "})\n",
    "\n",
    "model = ChatOpenAI(model='gpt-4o-mini')\n",
    "\n",
    "ai_llm_result = model.invoke(result)\n",
    "print(ai_llm_result.content)"
   ],
   "id": "79dc9b772d068656",
   "outputs": [
    {
     "name": "stdout",
     "output_type": "stream",
     "text": [
      "A great name for a boy who aspires to be like Rocky from KGF could be \"Arjun.\" This name is strong and heroic, reflecting the character's courage and determination. Other options could include \"Karan,\" \"Vikram,\" or \"Rohan,\" all of which carry a sense of strength and resilience.\n"
     ]
    }
   ],
   "execution_count": 3
  }
 ],
 "metadata": {
  "kernelspec": {
   "display_name": "Python 3",
   "language": "python",
   "name": "python3"
  },
  "language_info": {
   "codemirror_mode": {
    "name": "ipython",
    "version": 2
   },
   "file_extension": ".py",
   "mimetype": "text/x-python",
   "name": "python",
   "nbconvert_exporter": "python",
   "pygments_lexer": "ipython2",
   "version": "2.7.6"
  }
 },
 "nbformat": 4,
 "nbformat_minor": 5
}
