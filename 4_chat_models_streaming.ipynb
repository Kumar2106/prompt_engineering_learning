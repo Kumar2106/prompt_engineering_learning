{
 "cells": [
  {
   "cell_type": "code",
   "id": "initial_id",
   "metadata": {
    "collapsed": true,
    "ExecuteTime": {
     "end_time": "2025-02-20T17:15:58.209162Z",
     "start_time": "2025-02-20T17:15:52.965149Z"
    }
   },
   "source": "%pip install langchain langchain_openai langchain-community --upgrade --quiet",
   "outputs": [
    {
     "name": "stdout",
     "output_type": "stream",
     "text": [
      "Note: you may need to restart the kernel to use updated packages.\n"
     ]
    }
   ],
   "execution_count": 1
  },
  {
   "metadata": {
    "ExecuteTime": {
     "end_time": "2025-02-20T17:16:05.676687Z",
     "start_time": "2025-02-20T17:16:02.233610Z"
    }
   },
   "cell_type": "code",
   "source": [
    "from langchain_openai import ChatOpenAI\n",
    "from langchain_core.messages import HumanMessage"
   ],
   "id": "6d3e9ff3d04e63ca",
   "outputs": [],
   "execution_count": 2
  },
  {
   "metadata": {
    "ExecuteTime": {
     "end_time": "2025-02-20T17:16:37.854128Z",
     "start_time": "2025-02-20T17:16:35.141966Z"
    }
   },
   "cell_type": "code",
   "source": [
    "model = ChatOpenAI(streaming=True)\n",
    "\n",
    "import sys\n",
    "\n",
    "for chunk in model.stream(\"What is the capital of the moon?\"):\n",
    "    print(chunk.content, end='', flush=True)\n",
    "    sys.stdout.flush()"
   ],
   "id": "cfb6b087f4096e79",
   "outputs": [
    {
     "name": "stdout",
     "output_type": "stream",
     "text": [
      "The moon does not have a capital as it is not a country or a political entity."
     ]
    }
   ],
   "execution_count": 3
  },
  {
   "metadata": {
    "ExecuteTime": {
     "end_time": "2025-02-20T17:16:51.904220Z",
     "start_time": "2025-02-20T17:16:50.424500Z"
    }
   },
   "cell_type": "code",
   "source": [
    "for chunk in model.stream([HumanMessage(content=\"What is the capital of the moon?\")]):\n",
    "    print(chunk.content, end='', flush=True)\n",
    "    sys.stdout.flush()"
   ],
   "id": "d4d7dbddc7443e6e",
   "outputs": [
    {
     "name": "stdout",
     "output_type": "stream",
     "text": [
      "The moon does not have a capital as it is not a country with a government."
     ]
    }
   ],
   "execution_count": 4
  }
 ],
 "metadata": {
  "kernelspec": {
   "display_name": "Python 3",
   "language": "python",
   "name": "python3"
  },
  "language_info": {
   "codemirror_mode": {
    "name": "ipython",
    "version": 2
   },
   "file_extension": ".py",
   "mimetype": "text/x-python",
   "name": "python",
   "nbconvert_exporter": "python",
   "pygments_lexer": "ipython2",
   "version": "2.7.6"
  }
 },
 "nbformat": 4,
 "nbformat_minor": 5
}
